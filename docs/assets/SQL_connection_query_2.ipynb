{
 "cells": [
  {
   "cell_type": "code",
   "execution_count": 2,
   "metadata": {},
   "outputs": [],
   "source": [
    "import pyodbc\n",
    "conn = pyodbc.connect('Driver={SQL Server};'\n",
    "                      'Server=LAPTOP-S1V0PRKL;'\n",
    "                      'Database=PythonTest;'\n",
    "                      'Trusted_Connection=yes;')\n",
    " \n",
    "cursor1 = conn.cursor()"
   ]
  },
  {
   "cell_type": "code",
   "execution_count": 3,
   "metadata": {},
   "outputs": [
    {
     "name": "stdout",
     "output_type": "stream",
     "text": [
      "SELECT * FROM  [TEST1].[order_table]\n",
      "                 WHERE account_id in (?,?,?)\n",
      "                 and address in (?,?,?)\n",
      "              \n",
      "(286, '100 Tryon Rd APT 1', 2017, 4, Decimal('287.88'), Decimal('4.99'))\n",
      "(148, '101 Tryon Rd APT 5', 2018, 8, Decimal('75.78'), Decimal('6.99'))\n",
      "(203, '102 Tryon Rd APT 1', 2018, 10, Decimal('216.56'), Decimal('7.99'))\n"
     ]
    }
   ],
   "source": [
    "account_list = (286,148,203)\n",
    "address_list = ('100 Tryon Rd APT 1', '101 Tryon Rd APT 5', '102 Tryon Rd APT 1')\n",
    "sql_command = \"\"\"SELECT * FROM  [TEST1].[order_table]\n",
    "                 WHERE account_id in (%s)\n",
    "                 and address in (%s)\n",
    "              \"\"\"%(','.join('?' * len(account_list)), ','.join('?' * len(address_list)))\n",
    "\n",
    "print(sql_command)\n",
    "cursor1.execute(sql_command,account_list + address_list)\n",
    "\n",
    "for row in cursor1:\n",
    "    print(row)"
   ]
  },
  {
   "cell_type": "code",
   "execution_count": 4,
   "metadata": {},
   "outputs": [],
   "source": [
    "address_list = ('100 Tryon Rd', '101 Tryon Rd', '102 Tryon Rd')\n",
    "sql_command = \"\"\"SELECT * FROM  [TEST1].[order_table]\n",
    "                 WHERE account_id in (%s)\n",
    "                 and address in (%s)\n",
    "              \"\"\"%(','.join('?' * len(account_list)), ','.join('?' * len(address_list)))\n",
    "\n",
    "\n",
    "cursor1.execute(sql_command,account_list + address_list)\n",
    "for row in cursor1:\n",
    "    print(row)"
   ]
  },
  {
   "cell_type": "code",
   "execution_count": 25,
   "metadata": {},
   "outputs": [
    {
     "name": "stdout",
     "output_type": "stream",
     "text": [
      "SELECT * FROM  [TEST1].[order_table]\n",
      "                 WHERE account_id in (?,?,?)\n",
      "                 and (address like '%100 Tryon Rd%'\n",
      "                      or address like '%101 Tryon Rd%'\n",
      "                      or address like '%102 Tryon Rd%')\n",
      "\n"
     ]
    }
   ],
   "source": [
    "address_list = ('%100 Tryon Rd%', '%101 Tryon Rd%', '%102 Tryon Rd%')\n",
    "\n",
    "sql_command = \"\"\"SELECT * FROM  [TEST1].[order_table]\n",
    "                 WHERE account_id in (%s)\n",
    "                 and (address like '%s'\n",
    "                      or address like '%s'\n",
    "                      or address like '%s')\n",
    "\"\"\"%(','.join('?' * len(account_list)),address_list[0],address_list[1],address_list[2] )\n",
    "\n",
    "print (sql_command)\n"
   ]
  },
  {
   "cell_type": "code",
   "execution_count": 5,
   "metadata": {},
   "outputs": [],
   "source": [
    "address_list = ['100 Tryon Rd', '101 Tryon Rd', '102 Tryon Rd']\n"
   ]
  },
  {
   "cell_type": "code",
   "execution_count": 6,
   "metadata": {},
   "outputs": [
    {
     "name": "stdout",
     "output_type": "stream",
     "text": [
      "[\" t.[address] like '%100 Tryon Rd%'\", \" t.[address] like '%101 Tryon Rd%'\", \" t.[address] like '%102 Tryon Rd%'\"]\n",
      " t.[address] like '%100 Tryon Rd%' or  t.[address] like '%101 Tryon Rd%' or  t.[address] like '%102 Tryon Rd%'\n",
      "[\" t.[address] like '%100 Tryon Rd%' or  t.[address] like '%101 Tryon Rd%' or  t.[address] like '%102 Tryon Rd%'\"]\n",
      "[\" t.[address] like '%100 Tryon Rd%' or  t.[address] like '%101 Tryon Rd%' or  t.[address] like '%102 Tryon Rd%'\"]\n"
     ]
    }
   ],
   "source": [
    "   \n",
    "str_add = [\"\"\" t.[address] like '%\"\"\" + every_add + \"\"\"%'\"\"\"for every_add in address_list]\n",
    "\n",
    "print (str_add)\n",
    "\n",
    "str_add = ' or '.join(str_add)\n",
    "\n",
    "print(str_add)\n",
    "\n",
    "str_list =[str_add]\n",
    "\n",
    "print(str_list)\n",
    "str_list1 = [str_add,]\n",
    "print(str_list)\n",
    "    "
   ]
  },
  {
   "cell_type": "code",
   "execution_count": 30,
   "metadata": {},
   "outputs": [
    {
     "name": "stdout",
     "output_type": "stream",
     "text": [
      "SELECT * FROM  [TEST1].[order_table] t\n",
      "                 WHERE account_id in (?,?,?)\n",
      "                 and ( t.[address] like '%100 Tryon Rd%' or  t.[address] like '%101 Tryon Rd%' or  t.[address] like '%102 Tryon Rd%')\n",
      "\n"
     ]
    }
   ],
   "source": [
    "sql_command = \"\"\"SELECT * FROM  [TEST1].[order_table] t\n",
    "                 WHERE account_id in (%s)\n",
    "                 and (%s)\n",
    "\"\"\"%(','.join('?' * len(account_list)), str_list[0] )\n",
    "\n",
    "print(sql_command)\n"
   ]
  },
  {
   "cell_type": "code",
   "execution_count": 31,
   "metadata": {},
   "outputs": [
    {
     "name": "stdout",
     "output_type": "stream",
     "text": [
      "SELECT * FROM  [TEST1].[order_table] t\n",
      "                 WHERE account_id in (?,?,?)\n",
      "                 and ( t.[address] like '%100 Tryon Rd%' or  t.[address] like '%101 Tryon Rd%' or  t.[address] like '%102 Tryon Rd%')\n",
      "\n"
     ]
    }
   ],
   "source": [
    "sql_command = \"\"\"SELECT * FROM  [TEST1].[order_table] t\n",
    "                 WHERE account_id in (%s)\n",
    "                 and (%s)\n",
    "\"\"\"%(','.join('?' * len(account_list)), str_add )\n",
    "\n",
    "print(sql_command)"
   ]
  },
  {
   "cell_type": "markdown",
   "metadata": {},
   "source": [
    "STOP. \n",
    "EMPHASIZE.\n",
    "REVIEW. 1. three double quote\n",
    "        2. parameters use ?,?,? in the command \n",
    "           and provide value in execute as ???\n",
    "           \n",
    "        4. pieces sql command use %s in the string\n",
    "           and substitue that %s with ???\n",
    "           \n",
    "        5. for unkown number of parameters, use %s in the string\n",
    "           and substitue that %s with ???\n",
    "           \n",
    "           \n",
    "           \n",
    "test.\n"
   ]
  },
  {
   "cell_type": "code",
   "execution_count": 16,
   "metadata": {
    "collapsed": true
   },
   "outputs": [
    {
     "ename": "TypeError",
     "evalue": "can only concatenate tuple (not \"int\") to tuple",
     "output_type": "error",
     "traceback": [
      "\u001b[1;31m---------------------------------------------------------------------------\u001b[0m",
      "\u001b[1;31mTypeError\u001b[0m                                 Traceback (most recent call last)",
      "\u001b[1;32m<ipython-input-16-a6b78481b8d1>\u001b[0m in \u001b[0;36m<module>\u001b[1;34m\u001b[0m\n\u001b[0;32m      6\u001b[0m               \"\"\"\n\u001b[0;32m      7\u001b[0m \u001b[1;33m\u001b[0m\u001b[0m\n\u001b[1;32m----> 8\u001b[1;33m \u001b[0mcursor1\u001b[0m\u001b[1;33m.\u001b[0m\u001b[0mexecute\u001b[0m\u001b[1;33m(\u001b[0m\u001b[0msql_command\u001b[0m\u001b[1;33m,\u001b[0m\u001b[0maccount_list\u001b[0m \u001b[1;33m+\u001b[0m \u001b[1;36m2018\u001b[0m\u001b[1;33m)\u001b[0m\u001b[1;33m\u001b[0m\u001b[1;33m\u001b[0m\u001b[0m\n\u001b[0m",
      "\u001b[1;31mTypeError\u001b[0m: can only concatenate tuple (not \"int\") to tuple"
     ]
    }
   ],
   "source": [
    "account_list = (286,148,203)\n",
    "\n",
    "sql_command = \"\"\"SELECT * FROM  [TEST1].[order_table]\n",
    "                 WHERE account_id in (?,?,?)\n",
    "                 and order_year in (?)\n",
    "              \"\"\"\n",
    "\n",
    "cursor1.execute(sql_command,account_list + 2018)"
   ]
  },
  {
   "cell_type": "code",
   "execution_count": 15,
   "metadata": {
    "collapsed": true
   },
   "outputs": [
    {
     "data": {
      "text/plain": [
       "<pyodbc.Cursor at 0x282954e06c0>"
      ]
     },
     "execution_count": 15,
     "metadata": {},
     "output_type": "execute_result"
    }
   ],
   "source": [
    "account_list = (286,148,203)\n",
    "\n",
    "sql_command = \"\"\"SELECT * FROM  [TEST1].[order_table]\n",
    "                 WHERE account_id in (?,?,?)\n",
    "                 and order_year in (?)\n",
    "              \"\"\"\n",
    "\n",
    "cursor1.execute(sql_command,account_list + (2018))\n"
   ]
  },
  {
   "cell_type": "code",
   "execution_count": 14,
   "metadata": {
    "collapsed": true
   },
   "outputs": [
    {
     "data": {
      "text/plain": [
       "<pyodbc.Cursor at 0x282954e06c0>"
      ]
     },
     "execution_count": 14,
     "metadata": {},
     "output_type": "execute_result"
    }
   ],
   "source": [
    "account_list = [286,148,203]\n",
    "\n",
    "sql_command = \"\"\"SELECT * FROM  [TEST1].[order_table]\n",
    "                 WHERE account_id in (?,?,?)\n",
    "                 and order_year in (?)\n",
    "              \"\"\"\n",
    "\n",
    "cursor1.execute(sql_command,account_list + [2018])"
   ]
  },
  {
   "cell_type": "code",
   "execution_count": 18,
   "metadata": {
    "collapsed": true
   },
   "outputs": [
    {
     "ename": "TypeError",
     "evalue": "unsupported operand type(s) for +: 'set' and 'set'",
     "output_type": "error",
     "traceback": [
      "\u001b[1;31m---------------------------------------------------------------------------\u001b[0m",
      "\u001b[1;31mTypeError\u001b[0m                                 Traceback (most recent call last)",
      "\u001b[1;32m<ipython-input-18-b900029348a6>\u001b[0m in \u001b[0;36m<module>\u001b[1;34m\u001b[0m\n\u001b[0;32m      6\u001b[0m               \"\"\"\n\u001b[0;32m      7\u001b[0m \u001b[1;33m\u001b[0m\u001b[0m\n\u001b[1;32m----> 8\u001b[1;33m \u001b[0mcursor1\u001b[0m\u001b[1;33m.\u001b[0m\u001b[0mexecute\u001b[0m\u001b[1;33m(\u001b[0m\u001b[0msql_command\u001b[0m\u001b[1;33m,\u001b[0m\u001b[0maccount_list\u001b[0m \u001b[1;33m+\u001b[0m \u001b[1;33m{\u001b[0m\u001b[1;36m2018\u001b[0m\u001b[1;33m}\u001b[0m\u001b[1;33m)\u001b[0m\u001b[1;33m\u001b[0m\u001b[1;33m\u001b[0m\u001b[0m\n\u001b[0m",
      "\u001b[1;31mTypeError\u001b[0m: unsupported operand type(s) for +: 'set' and 'set'"
     ]
    }
   ],
   "source": [
    "account_list = {286,148,203}\n",
    "\n",
    "sql_command = \"\"\"SELECT * FROM  [TEST1].[order_table]\n",
    "                 WHERE account_id in (?,?,?)\n",
    "                 and order_year in (?)\n",
    "              \"\"\"\n",
    "\n",
    "cursor1.execute(sql_command,account_list + {2018})"
   ]
  },
  {
   "cell_type": "code",
   "execution_count": 16,
   "metadata": {
    "collapsed": true
   },
   "outputs": [
    {
     "name": "stdout",
     "output_type": "stream",
     "text": [
      "286 , 148 , 203\n",
      "SELECT * FROM  [TEST1].[order_table]\n",
      "                 WHERE account_id in (286 , 148 , 203)\n",
      "                 and order_year in (2018)\n",
      "              \n"
     ]
    }
   ],
   "source": [
    "account_list = [286,148,203]\n",
    "Year = 2018\n",
    "account_string = [ str(every_acct) for every_acct in account_list]\n",
    "\n",
    "\n",
    "str_acc = ' , '.join(account_string)\n",
    "\n",
    "print(str_acc)\n",
    "\n",
    "sql_command = \"\"\"SELECT * FROM  [TEST1].[order_table]\n",
    "                 WHERE account_id in (%s)\n",
    "                 and order_year in (%s)\n",
    "              \"\"\"%(str_acc, str(Year))\n",
    "\n",
    "print(sql_command)"
   ]
  },
  {
   "cell_type": "code",
   "execution_count": 17,
   "metadata": {
    "collapsed": true
   },
   "outputs": [
    {
     "name": "stdout",
     "output_type": "stream",
     "text": [
      "SELECT * FROM  [TEST1].[order_table]\n",
      "                 WHERE address in (100 Tryon Rd APT 1,101 Tryon Rd APT 5,102 Tryon Rd APT 1)\n",
      "              \n"
     ]
    }
   ],
   "source": [
    "address_list = ('100 Tryon Rd APT 1', '101 Tryon Rd APT 5', '102 Tryon Rd APT 1')\n",
    "str1= ','.join(address_list)\n",
    "\n",
    "\n",
    "sql_command = \"\"\"SELECT * FROM  [TEST1].[order_table]\n",
    "                 WHERE address in (%s)\n",
    "              \"\"\"%(str1)\n",
    "\n",
    "print(sql_command)"
   ]
  },
  {
   "cell_type": "code",
   "execution_count": 20,
   "metadata": {
    "collapsed": true
   },
   "outputs": [
    {
     "name": "stdout",
     "output_type": "stream",
     "text": [
      "SELECT * FROM  [TEST1].[order_table]\n",
      "                 WHERE address in ('100 Tryon Rd APT 1','101 Tryon Rd APT 5','102 Tryon Rd APT 1')\n",
      "              \n"
     ]
    }
   ],
   "source": [
    "address_list1 = ('100 Tryon Rd APT 1', '101 Tryon Rd APT 5', '102 Tryon Rd APT 1')\n",
    "address_list2 = (\"\"\"'\"\"\"+every_address+\"\"\"'\"\"\" for every_address in address_list1)\n",
    "str2= ','.join(address_list2)\n",
    "\n",
    "sql_command = \"\"\"SELECT * FROM  [TEST1].[order_table]\n",
    "                 WHERE address in (%s)\n",
    "              \"\"\"%(str2)\n",
    "\n",
    "print(sql_command)"
   ]
  },
  {
   "cell_type": "code",
   "execution_count": null,
   "metadata": {},
   "outputs": [],
   "source": []
  }
 ],
 "metadata": {
  "kernelspec": {
   "display_name": "Python 3",
   "language": "python",
   "name": "python3"
  },
  "language_info": {
   "codemirror_mode": {
    "name": "ipython",
    "version": 3
   },
   "file_extension": ".py",
   "mimetype": "text/x-python",
   "name": "python",
   "nbconvert_exporter": "python",
   "pygments_lexer": "ipython3",
   "version": "3.7.3"
  }
 },
 "nbformat": 4,
 "nbformat_minor": 2
}
