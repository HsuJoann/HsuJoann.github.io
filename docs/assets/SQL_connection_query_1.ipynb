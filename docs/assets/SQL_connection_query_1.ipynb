{
 "cells": [
  {
   "cell_type": "code",
   "execution_count": 8,
   "metadata": {
    "collapsed": true
   },
   "outputs": [
    {
     "name": "stdout",
     "output_type": "stream",
     "text": [
      "(286, '100 Tryon Rd APT 1', 2017, 4, Decimal('287.88'), Decimal('4.99'))\n",
      "(148, '101 Tryon Rd APT 5', 2018, 8, Decimal('75.78'), Decimal('6.99'))\n",
      "(203, '102 Tryon Rd APT 1', 2018, 10, Decimal('216.56'), Decimal('7.99'))\n",
      "(286, '114 Tryon Rd APT 5', 2018, 8, Decimal('132.83'), Decimal('8.99'))\n",
      "(286, '103 Tryon Rd APT 1', 2017, 12, Decimal('317.79'), Decimal('7.99'))\n",
      "(286, '109 Tryon Rd APT 6', 2018, 9, Decimal('272.32'), Decimal('5.99'))\n"
     ]
    }
   ],
   "source": [
    "import pyodbc\n",
    "conn = pyodbc.connect('Driver={SQL Server};'\n",
    "                      'Server=LAPTOP-S1V0PRKL;'\n",
    "                      'Database=PythonTest;'\n",
    "                      'Trusted_Connection=yes;')\n",
    " \n",
    "cursor1 = conn.cursor()\n",
    "sql_command = \"\"\"SELECT * FROM  [TEST1].[order_table]\n",
    "                 WHERE account_id in (286,148,203)   \n",
    "                 \n",
    "                 \"\"\"\n",
    "cursor1.execute(sql_command)\n",
    "\n",
    "for row in cursor1:\n",
    "    print(row)"
   ]
  },
  {
   "cell_type": "code",
   "execution_count": 9,
   "metadata": {
    "collapsed": true
   },
   "outputs": [
    {
     "name": "stdout",
     "output_type": "stream",
     "text": [
      "(286, '100 Tryon Rd APT 1', 2017, 4, Decimal('287.88'), Decimal('4.99'))\n",
      "(148, '101 Tryon Rd APT 5', 2018, 8, Decimal('75.78'), Decimal('6.99'))\n",
      "(203, '102 Tryon Rd APT 1', 2018, 10, Decimal('216.56'), Decimal('7.99'))\n",
      "(286, '114 Tryon Rd APT 5', 2018, 8, Decimal('132.83'), Decimal('8.99'))\n",
      "(286, '103 Tryon Rd APT 1', 2017, 12, Decimal('317.79'), Decimal('7.99'))\n",
      "(286, '109 Tryon Rd APT 6', 2018, 9, Decimal('272.32'), Decimal('5.99'))\n"
     ]
    }
   ],
   "source": [
    "sql_command = \"\"\"SELECT * FROM  [TEST1].[order_table]\n",
    "                 WHERE account_id in (?,?,?)   \n",
    "                 \n",
    "                 \"\"\"\n",
    "cursor1.execute(sql_command,(286,148,203))\n",
    "\n",
    "for row in cursor1:\n",
    "    print(row)"
   ]
  },
  {
   "cell_type": "code",
   "execution_count": 12,
   "metadata": {},
   "outputs": [
    {
     "name": "stdout",
     "output_type": "stream",
     "text": [
      "(286, '100 Tryon Rd APT 1', 2017, 4, Decimal('287.88'), Decimal('4.99'))\n",
      "(148, '101 Tryon Rd APT 5', 2018, 8, Decimal('75.78'), Decimal('6.99'))\n",
      "(203, '102 Tryon Rd APT 1', 2018, 10, Decimal('216.56'), Decimal('7.99'))\n",
      "(286, '114 Tryon Rd APT 5', 2018, 8, Decimal('132.83'), Decimal('8.99'))\n",
      "(286, '103 Tryon Rd APT 1', 2017, 12, Decimal('317.79'), Decimal('7.99'))\n",
      "(286, '109 Tryon Rd APT 6', 2018, 9, Decimal('272.32'), Decimal('5.99'))\n"
     ]
    }
   ],
   "source": [
    "account_list = (286,148,203)\n",
    "sql_command = \"\"\"SELECT * FROM  [TEST1].[order_table]\n",
    "                 WHERE account_id in (?,?,?)   \n",
    "                 \n",
    "                 \"\"\"\n",
    "cursor1.execute(sql_command,account_list)\n",
    "\n",
    "for row in cursor1:\n",
    "    print(row)"
   ]
  },
  {
   "cell_type": "code",
   "execution_count": 13,
   "metadata": {
    "collapsed": true
   },
   "outputs": [
    {
     "name": "stdout",
     "output_type": "stream",
     "text": [
      "(286, '100 Tryon Rd APT 1', 2017, 4, Decimal('287.88'), Decimal('4.99'))\n",
      "(148, '101 Tryon Rd APT 5', 2018, 8, Decimal('75.78'), Decimal('6.99'))\n",
      "(203, '102 Tryon Rd APT 1', 2018, 10, Decimal('216.56'), Decimal('7.99'))\n"
     ]
    }
   ],
   "source": [
    "account_list = (286,148,203)\n",
    "address_list = ('100 Tryon Rd APT 1', '101 Tryon Rd APT 5', '102 Tryon Rd APT 1')\n",
    "sql_command = \"\"\"SELECT * FROM  [TEST1].[order_table]\n",
    "                 WHERE account_id in (?,?,?)\n",
    "                 and address in (?,?,?)\n",
    "                 \n",
    "                 \"\"\"\n",
    "cursor1.execute(sql_command,account_list+address_list)\n",
    "\n",
    "for row in cursor1:\n",
    "    print(row)"
   ]
  },
  {
   "cell_type": "code",
   "execution_count": 14,
   "metadata": {
    "collapsed": true
   },
   "outputs": [
    {
     "name": "stdout",
     "output_type": "stream",
     "text": [
      "(286, '100 Tryon Rd APT 1', 2017, 4, Decimal('287.88'), Decimal('4.99'))\n",
      "(148, '101 Tryon Rd APT 5', 2018, 8, Decimal('75.78'), Decimal('6.99'))\n",
      "(203, '102 Tryon Rd APT 1', 2018, 10, Decimal('216.56'), Decimal('7.99'))\n"
     ]
    }
   ],
   "source": [
    "account_list = (286,148,203)\n",
    "address_list = ('100 Tryon Rd APT 1', '101 Tryon Rd APT 5', '102 Tryon Rd APT 1')\n",
    "\n",
    "all_list = account_list + address_list\n",
    "\n",
    "\n",
    "sql_command = \"\"\"SELECT * FROM  [TEST1].[order_table]\n",
    "                 WHERE account_id in (?,?,?)\n",
    "                 and address in (?,?,?)\n",
    "                 \n",
    "                 \"\"\"\n",
    "cursor1.execute(sql_command,all_list)\n",
    "\n",
    "for row in cursor1:\n",
    "    print(row)"
   ]
  },
  {
   "cell_type": "code",
   "execution_count": 17,
   "metadata": {
    "collapsed": true
   },
   "outputs": [
    {
     "name": "stdout",
     "output_type": "stream",
     "text": [
      "(286, '100 Tryon Rd APT 1', 2017, 4, Decimal('287.88'), Decimal('4.99'))\n",
      "(148, '101 Tryon Rd APT 5', 2018, 8, Decimal('75.78'), Decimal('6.99'))\n",
      "(203, '102 Tryon Rd APT 1', 2018, 10, Decimal('216.56'), Decimal('7.99'))\n"
     ]
    }
   ],
   "source": [
    "account_list = (286,148,203)\n",
    "address_list = ('100 Tryon Rd APT 1', '101 Tryon Rd APT 5', '102 Tryon Rd APT 1')\n",
    "\n",
    "sql_command = \"\"\"SELECT * FROM  [TEST1].[order_table]\n",
    "                 WHERE account_id in (%s)\n",
    "                 and address in (%s)\n",
    "                 \n",
    "                 \"\"\"%('?,?,?', '?,?,?')\n",
    "cursor1.execute(sql_command,account_list + address_list)\n",
    "\n",
    "for row in cursor1:\n",
    "    print(row)"
   ]
  },
  {
   "cell_type": "code",
   "execution_count": 18,
   "metadata": {
    "collapsed": true
   },
   "outputs": [
    {
     "name": "stdout",
     "output_type": "stream",
     "text": [
      "3\n"
     ]
    }
   ],
   "source": [
    "print(len(account_list))"
   ]
  },
  {
   "cell_type": "code",
   "execution_count": 20,
   "metadata": {},
   "outputs": [
    {
     "name": "stdout",
     "output_type": "stream",
     "text": [
      "a,b,c,a,b,c,a,b,c,a,b,c,a,b,c\n"
     ]
    }
   ],
   "source": [
    "join_string =','.join('abc'*5)\n",
    "print (join_string)"
   ]
  },
  {
   "cell_type": "code",
   "execution_count": 22,
   "metadata": {},
   "outputs": [
    {
     "name": "stdout",
     "output_type": "stream",
     "text": [
      "a,b,c,a,b,c,a,b,c,a,b,c,a,b,c\n"
     ]
    }
   ],
   "source": [
    "join_string =','.join(\"\"\"abc\"\"\"*5)\n",
    "print (join_string)"
   ]
  },
  {
   "cell_type": "code",
   "execution_count": 24,
   "metadata": {
    "scrolled": true
   },
   "outputs": [
    {
     "name": "stdout",
     "output_type": "stream",
     "text": [
      "?,?,?\n"
     ]
    }
   ],
   "source": [
    "join_string =','.join('?'*len(account_list))\n",
    "print (join_string)"
   ]
  },
  {
   "cell_type": "code",
   "execution_count": null,
   "metadata": {},
   "outputs": [],
   "source": [
    "account_list = (286,148,203)\n",
    "address_list = ('100 Tryon Rd APT 1', '101 Tryon Rd APT 5', '102 Tryon Rd APT 1')\n",
    "\n",
    "sql_command = \"\"\"SELECT * FROM  [TEST1].[order_table]\n",
    "                 WHERE account_id in (%s)\n",
    "                 and address in (%s)\n",
    "                 \n",
    "\"\"\"%(','.join('?' * len(account_list)), ','.join('?' * len(address_list)))\n",
    "\n",
    "\n",
    "cursor1.execute(sql_command,account_list + address_list)\n",
    "\n",
    "for row in cursor1:\n",
    "    print(row)"
   ]
  },
  {
   "cell_type": "code",
   "execution_count": 25,
   "metadata": {},
   "outputs": [
    {
     "name": "stdout",
     "output_type": "stream",
     "text": [
      "SELECT * FROM  [TEST1].[order_table]\n",
      "                 WHERE account_id in (?,?,?)\n",
      "                 and address in (?,?,?)\n",
      "                 \n",
      "                 \n"
     ]
    }
   ],
   "source": [
    "print(sql_command)"
   ]
  },
  {
   "cell_type": "code",
   "execution_count": null,
   "metadata": {},
   "outputs": [],
   "source": []
  }
 ],
 "metadata": {
  "celltoolbar": "Raw Cell Format",
  "kernelspec": {
   "display_name": "Python 3",
   "language": "python",
   "name": "python3"
  },
  "language_info": {
   "codemirror_mode": {
    "name": "ipython",
    "version": 3
   },
   "file_extension": ".py",
   "mimetype": "text/x-python",
   "name": "python",
   "nbconvert_exporter": "python",
   "pygments_lexer": "ipython3",
   "version": "3.7.3"
  }
 },
 "nbformat": 4,
 "nbformat_minor": 2
}
